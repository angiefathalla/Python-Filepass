{
 "cells": [
  {
   "cell_type": "code",
   "execution_count": 1,
   "id": "6ce606d6",
   "metadata": {},
   "outputs": [],
   "source": [
    "import pandas as pd\n",
    "fifa = pd.read_csv('players_20.csv')"
   ]
  },
  {
   "cell_type": "code",
   "execution_count": 5,
   "id": "97871575",
   "metadata": {},
   "outputs": [
    {
     "name": "stdout",
     "output_type": "stream",
     "text": [
      "   sofifa_id                                         player_url  \\\n",
      "0     158023  https://sofifa.com/player/158023/lionel-messi/...   \n",
      "1      20801  https://sofifa.com/player/20801/c-ronaldo-dos-...   \n",
      "2     190871  https://sofifa.com/player/190871/neymar-da-sil...   \n",
      "3     200389  https://sofifa.com/player/200389/jan-oblak/20/...   \n",
      "4     183277  https://sofifa.com/player/183277/eden-hazard/2...   \n",
      "\n",
      "          short_name                            long_name  age         dob  \\\n",
      "0           L. Messi       Lionel Andrés Messi Cuccittini   32  1987-06-24   \n",
      "1  Cristiano Ronaldo  Cristiano Ronaldo dos Santos Aveiro   34  1985-02-05   \n",
      "2          Neymar Jr        Neymar da Silva Santos Junior   27  1992-02-05   \n",
      "3           J. Oblak                            Jan Oblak   26  1993-01-07   \n",
      "4          E. Hazard                          Eden Hazard   28  1991-01-07   \n",
      "\n",
      "   height_cm  weight_kg nationality                 club  ...   lwb   ldm  \\\n",
      "0        170         72   Argentina         FC Barcelona  ...  68+2  66+2   \n",
      "1        187         83    Portugal             Juventus  ...  65+3  61+3   \n",
      "2        175         68      Brazil  Paris Saint-Germain  ...  66+3  61+3   \n",
      "3        188         87    Slovenia      Atlético Madrid  ...   NaN   NaN   \n",
      "4        175         74     Belgium          Real Madrid  ...  66+3  63+3   \n",
      "\n",
      "    cdm   rdm   rwb    lb   lcb    cb   rcb    rb  \n",
      "0  66+2  66+2  68+2  63+2  52+2  52+2  52+2  63+2  \n",
      "1  61+3  61+3  65+3  61+3  53+3  53+3  53+3  61+3  \n",
      "2  61+3  61+3  66+3  61+3  46+3  46+3  46+3  61+3  \n",
      "3   NaN   NaN   NaN   NaN   NaN   NaN   NaN   NaN  \n",
      "4  63+3  63+3  66+3  61+3  49+3  49+3  49+3  61+3  \n",
      "\n",
      "[5 rows x 104 columns]\n"
     ]
    }
   ],
   "source": [
    "#1. Load the csv file and show top 5 records from it.\n",
    "print(fifa.head(5))"
   ]
  },
  {
   "cell_type": "code",
   "execution_count": 16,
   "id": "b6de1f8f",
   "metadata": {},
   "outputs": [
    {
     "name": "stdout",
     "output_type": "stream",
     "text": [
      "Column names:\n",
      "['sofifa_id', 'player_url', 'short_name', 'long_name', 'age', 'dob', 'height_cm', 'weight_kg', 'nationality', 'club', 'overall', 'potential', 'value_eur', 'wage_eur', 'player_positions', 'preferred_foot', 'international_reputation', 'weak_foot', 'skill_moves', 'work_rate', 'body_type', 'real_face', 'release_clause_eur', 'player_tags', 'team_position', 'team_jersey_number', 'loaned_from', 'joined', 'contract_valid_until', 'nation_position', 'nation_jersey_number', 'pace', 'shooting', 'passing', 'dribbling', 'defending', 'physic', 'gk_diving', 'gk_handling', 'gk_kicking', 'gk_reflexes', 'gk_speed', 'gk_positioning', 'player_traits', 'attacking_crossing', 'attacking_finishing', 'attacking_heading_accuracy', 'attacking_short_passing', 'attacking_volleys', 'skill_dribbling', 'skill_curve', 'skill_fk_accuracy', 'skill_long_passing', 'skill_ball_control', 'movement_acceleration', 'movement_sprint_speed', 'movement_agility', 'movement_reactions', 'movement_balance', 'power_shot_power', 'power_jumping', 'power_stamina', 'power_strength', 'power_long_shots', 'mentality_aggression', 'mentality_interceptions', 'mentality_positioning', 'mentality_vision', 'mentality_penalties', 'mentality_composure', 'defending_marking', 'defending_standing_tackle', 'defending_sliding_tackle', 'goalkeeping_diving', 'goalkeeping_handling', 'goalkeeping_kicking', 'goalkeeping_positioning', 'goalkeeping_reflexes', 'ls', 'st', 'rs', 'lw', 'lf', 'cf', 'rf', 'rw', 'lam', 'cam', 'ram', 'lm', 'lcm', 'cm', 'rcm', 'rm', 'lwb', 'ldm', 'cdm', 'rdm', 'rwb', 'lb', 'lcb', 'cb', 'rcb', 'rb']\n"
     ]
    }
   ],
   "source": [
    "#2. How you would be able to see each column's name\n",
    "#print(fifa.columns)\n",
    "print(\"Column names:\")\n",
    "print(fifa.columns.values.tolist())"
   ]
  },
  {
   "cell_type": "code",
   "execution_count": 18,
   "id": "56592d37",
   "metadata": {},
   "outputs": [
    {
     "name": "stdout",
     "output_type": "stream",
     "text": [
      "Rows and Columns: \n",
      "(18278, 104)\n"
     ]
    }
   ],
   "source": [
    "#3. Need to show number of rows and columns of this dataset\n",
    "print(\"Rows and Columns: \")\n",
    "print(fifa.shape)"
   ]
  },
  {
   "cell_type": "code",
   "execution_count": 37,
   "id": "19363645",
   "metadata": {},
   "outputs": [
    {
     "name": "stdout",
     "output_type": "stream",
     "text": [
      "nationality\n",
      "Afghanistan            2\n",
      "Albania               43\n",
      "Algeria               50\n",
      "Angola                16\n",
      "Antigua & Barbuda      7\n",
      "                    ... \n",
      "Venezuela             66\n",
      "Vietnam                1\n",
      "Wales                117\n",
      "Zambia                10\n",
      "Zimbabwe              12\n",
      "Length: 162, dtype: int64\n"
     ]
    }
   ],
   "source": [
    "#4. Show number of players and their countries.\n",
    "country_players = fifa.pivot_table(columns=['nationality'], aggfunc='size')\n",
    "print(country_players)"
   ]
  },
  {
   "cell_type": "code",
   "execution_count": 38,
   "id": "3c4349e6",
   "metadata": {},
   "outputs": [
    {
     "name": "stdout",
     "output_type": "stream",
     "text": [
      "nationality\n",
      "Afghanistan           2\n",
      "Albania              43\n",
      "Algeria              50\n",
      "Angola               16\n",
      "Antigua & Barbuda     7\n",
      "dtype: int64\n"
     ]
    }
   ],
   "source": [
    "#5. If you find many records in point 4 then show only top 10 countries and their number of players.\n",
    "print(country_players.head(5))"
   ]
  },
  {
   "cell_type": "code",
   "execution_count": 40,
   "id": "b025b2b7",
   "metadata": {},
   "outputs": [
    {
     "name": "stdout",
     "output_type": "stream",
     "text": [
      "AxesSubplot(0.125,0.125;0.775x0.755)\n"
     ]
    },
    {
     "data": {
      "image/png": "[encoded data removed]",
      "text/plain": [
       "<Figure size 432x288 with 1 Axes>"
      ]
     },
     "metadata": {
      "needs_background": "light"
     },
     "output_type": "display_data"
    }
   ],
   "source": [
    "#6. Now you have to create a bar plot of top 5 countries and their number of players, try to fill green color in bars.\n",
    "print(country_players.head(5).plot.bar(color = {\"green\"}))"
   ]
  },
  {
   "cell_type": "code",
   "execution_count": 59,
   "id": "fed4ad96",
   "metadata": {},
   "outputs": [
    {
     "name": "stdout",
     "output_type": "stream",
     "text": [
      "          short_name  wage_eur\n",
      "0           L. Messi    565000\n",
      "1  Cristiano Ronaldo    405000\n",
      "2          Neymar Jr    290000\n",
      "3           J. Oblak    125000\n",
      "4          E. Hazard    470000\n"
     ]
    }
   ],
   "source": [
    "#7. Show top 5 players short name and wages.\n",
    "print(fifa.loc[:,['short_name','wage_eur']].head(5))"
   ]
  },
  {
   "cell_type": "code",
   "execution_count": 77,
   "id": "b0652d96",
   "metadata": {},
   "outputs": [
    {
     "name": "stdout",
     "output_type": "stream",
     "text": [
      "           short_name  wage_eur\n",
      "0            L. Messi    565000\n",
      "4           E. Hazard    470000\n",
      "1   Cristiano Ronaldo    405000\n",
      "5        K. De Bruyne    370000\n",
      "22       A. Griezmann    370000\n"
     ]
    }
   ],
   "source": [
    "#8. Show top 5 players short name and wages that are getting highest salaries.\n",
    "#print(fifa[['wage_eur']].max())\n",
    "top_payed=fifa.loc[:,['short_name','wage_eur']].nlargest(5, ['wage_eur'])\n",
    "print(top_payed)"
   ]
  },
  {
   "cell_type": "code",
   "execution_count": 78,
   "id": "6b2c0647",
   "metadata": {},
   "outputs": [
    {
     "name": "stdout",
     "output_type": "stream",
     "text": [
      "AxesSubplot(0.125,0.125;0.775x0.755)\n"
     ]
    },
    {
     "data": {
      "image/png": "[encoded data removed]",
      "text/plain": [
       "<Figure size 432x288 with 1 Axes>"
      ]
     },
     "metadata": {
      "needs_background": "light"
     },
     "output_type": "display_data"
    }
   ],
   "source": [
    "#9. Create a bar plot of point number 8.\n",
    "print(top_payed.plot.bar(color = {\"green\"}))"
   ]
  },
  {
   "cell_type": "code",
   "execution_count": 83,
   "id": "04c7914b",
   "metadata": {},
   "outputs": [
    {
     "name": "stdout",
     "output_type": "stream",
     "text": [
      "     sofifa_id                                         player_url  \\\n",
      "6       192448  https://sofifa.com/player/192448/marc-andre-te...   \n",
      "31      167495  https://sofifa.com/player/167495/manuel-neuer/...   \n",
      "36      182521  https://sofifa.com/player/182521/toni-kroos/20...   \n",
      "37      188350  https://sofifa.com/player/188350/marco-reus/20...   \n",
      "49      178603  https://sofifa.com/player/178603/mats-hummels/...   \n",
      "55      222492  https://sofifa.com/player/222492/leroy-sane/20...   \n",
      "61      212622  https://sofifa.com/player/212622/joshua-kimmic...   \n",
      "70      189596  https://sofifa.com/player/189596/thomas-muller...   \n",
      "77      212190  https://sofifa.com/player/212190/niklas-sule/2...   \n",
      "109     235790  https://sofifa.com/player/235790/kai-havertz/2...   \n",
      "\n",
      "        short_name              long_name  age         dob  height_cm  \\\n",
      "6    M. ter Stegen  Marc-André ter Stegen   27  1992-04-30        187   \n",
      "31        M. Neuer           Manuel Neuer   33  1986-03-27        193   \n",
      "36        T. Kroos             Toni Kroos   29  1990-01-04        183   \n",
      "37         M. Reus             Marco Reus   30  1989-05-31        180   \n",
      "49      M. Hummels          Mats  Hummels   30  1988-12-16        191   \n",
      "55         L. Sané             Leroy Sané   23  1996-01-11        183   \n",
      "61      J. Kimmich         Joshua Kimmich   24  1995-02-08        176   \n",
      "70       T. Müller          Thomas Müller   29  1989-09-13        186   \n",
      "77         N. Süle            Niklas Süle   23  1995-09-03        195   \n",
      "109     K. Havertz            Kai Havertz   20  1999-06-11        188   \n",
      "\n",
      "     weight_kg nationality                 club  ...   lwb   ldm   cdm   rdm  \\\n",
      "6           85     Germany         FC Barcelona  ...   NaN   NaN   NaN   NaN   \n",
      "31          92     Germany    FC Bayern München  ...   NaN   NaN   NaN   NaN   \n",
      "36          76     Germany          Real Madrid  ...  75+3  79+3  79+3  79+3   \n",
      "37          71     Germany    Borussia Dortmund  ...  69+3  65+3  65+3  65+3   \n",
      "49          94     Germany    Borussia Dortmund  ...  77+3  83+3  83+3  83+3   \n",
      "55          75     Germany      Manchester City  ...  65+2  59+2  59+2  59+2   \n",
      "61          73     Germany    FC Bayern München  ...  83+3  82+3  82+3  82+3   \n",
      "70          75     Germany    FC Bayern München  ...  69+3  68+3  68+3  68+3   \n",
      "77          97     Germany    FC Bayern München  ...  71+2  77+2  77+2  77+2   \n",
      "109         83     Germany  Bayer 04 Leverkusen  ...  65+2  63+2  63+2  63+2   \n",
      "\n",
      "      rwb    lb   lcb    cb   rcb    rb  \n",
      "6     NaN   NaN   NaN   NaN   NaN   NaN  \n",
      "31    NaN   NaN   NaN   NaN   NaN   NaN  \n",
      "36   75+3  72+3  69+3  69+3  69+3  72+3  \n",
      "37   69+3  64+3  55+3  55+3  55+3  64+3  \n",
      "49   77+3  78+3  84+3  84+3  84+3  78+3  \n",
      "55   65+2  61+2  52+2  52+2  52+2  61+2  \n",
      "61   83+3  81+3  78+3  78+3  78+3  81+3  \n",
      "70   69+3  67+3  62+3  62+3  62+3  67+3  \n",
      "77   71+2  75+2  83+2  83+2  83+2  75+2  \n",
      "109  65+2  62+2  54+2  54+2  54+2  62+2  \n",
      "\n",
      "[10 rows x 104 columns]\n"
     ]
    }
   ],
   "source": [
    "#10.Show top 10 records of Germany\n",
    "print(fifa.loc[fifa['nationality'] == 'Germany'].head(10))"
   ]
  },
  {
   "cell_type": "code",
   "execution_count": 92,
   "id": "aee75a62",
   "metadata": {},
   "outputs": [
    {
     "name": "stdout",
     "output_type": "stream",
     "text": [
      "       sofifa_id                                         player_url  \\\n",
      "8016      236831  https://sofifa.com/player/236831/aaron-seydel/...   \n",
      "1389      199833  https://sofifa.com/player/199833/lars-unnersta...   \n",
      "1217      200212  https://sofifa.com/player/200212/michael-esser...   \n",
      "13576     239746  https://sofifa.com/player/239746/lukas-watkowi...   \n",
      "518       179783  https://sofifa.com/player/179783/ralf-fahrmann...   \n",
      "\n",
      "          short_name        long_name  age         dob  height_cm  weight_kg  \\\n",
      "8016       A. Seydel     Aaron Seydel   23  1996-02-07        199         90   \n",
      "1389   L. Unnerstall  Lars Unnerstall   28  1990-07-20        198        103   \n",
      "1217        M. Esser    Michael Esser   31  1987-11-22        198         97   \n",
      "13576   L. Watkowiak  Lukas Watkowiak   23  1996-03-06        197        103   \n",
      "518      R. Fährmann    Ralf Fährmann   30  1988-09-27        197         98   \n",
      "\n",
      "      nationality                club  ...   lwb   ldm   cdm   rdm   rwb  \\\n",
      "8016      Germany     1. FSV Mainz 05  ...  46+2  43+2  43+2  43+2  46+2   \n",
      "1389      Germany                 PSV  ...   NaN   NaN   NaN   NaN   NaN   \n",
      "1217      Germany         Hannover 96  ...   NaN   NaN   NaN   NaN   NaN   \n",
      "13576     Germany  SV Wehen Wiesbaden  ...   NaN   NaN   NaN   NaN   NaN   \n",
      "518       Germany        Norwich City  ...   NaN   NaN   NaN   NaN   NaN   \n",
      "\n",
      "         lb   lcb    cb   rcb    rb  \n",
      "8016   44+2  43+2  43+2  43+2  44+2  \n",
      "1389    NaN   NaN   NaN   NaN   NaN  \n",
      "1217    NaN   NaN   NaN   NaN   NaN  \n",
      "13576   NaN   NaN   NaN   NaN   NaN  \n",
      "518     NaN   NaN   NaN   NaN   NaN  \n",
      "\n",
      "[5 rows x 104 columns]\n"
     ]
    }
   ],
   "source": [
    "#11.Now show top 5 records of Germany players who have maximum height, weight and wages.\n",
    "print(fifa.loc[fifa['nationality'] == 'Germany'].nlargest(5, ['height_cm','weight_kg','wage_eur']))"
   ]
  },
  {
   "cell_type": "code",
   "execution_count": 93,
   "id": "a6f98c86",
   "metadata": {},
   "outputs": [
    {
     "name": "stdout",
     "output_type": "stream",
     "text": [
      "       short_name  wage_eur\n",
      "6   M. ter Stegen    250000\n",
      "31       M. Neuer    155000\n",
      "36       T. Kroos    330000\n",
      "37        M. Reus    170000\n",
      "49     M. Hummels    130000\n"
     ]
    }
   ],
   "source": [
    "#12.Show short name and wages of top 5 Germany players.\n",
    "print(fifa.loc[fifa['nationality'] == 'Germany'].loc[:,['short_name','wage_eur']].head(5))"
   ]
  },
  {
   "cell_type": "code",
   "execution_count": 97,
   "id": "c82885e5",
   "metadata": {},
   "outputs": [
    {
     "name": "stdout",
     "output_type": "stream",
     "text": [
      "           short_name\n",
      "1   Cristiano Ronaldo\n",
      "0            L. Messi\n",
      "12            H. Kane\n",
      "17          S. Agüero\n",
      "19          L. Suárez\n"
     ]
    }
   ],
   "source": [
    "#13.Show top 5 players who have great shooting skills among all with short name.\n",
    "print(fifa.nlargest(5, ['shooting']).loc[:,['short_name']])"
   ]
  },
  {
   "cell_type": "code",
   "execution_count": 98,
   "id": "7db9afcd",
   "metadata": {},
   "outputs": [
    {
     "name": "stdout",
     "output_type": "stream",
     "text": [
      "      short_name  defending  nationality               club\n",
      "7    V. van Dijk       90.0  Netherlands          Liverpool\n",
      "16  G. Chiellini       90.0        Italy           Juventus\n",
      "11  K. Koulibaly       89.0      Senegal             Napoli\n",
      "35      D. Godín       89.0      Uruguay              Inter\n",
      "49    M. Hummels       89.0      Germany  Borussia Dortmund\n"
     ]
    }
   ],
   "source": [
    "#14.Show top 5 players records (short name, defending, nationality, and club) that have awesome defending skills.\n",
    "print(fifa.nlargest(5, ['defending']).loc[:,['short_name','defending','nationality','club']])"
   ]
  },
  {
   "cell_type": "code",
   "execution_count": 100,
   "id": "12faa1c5",
   "metadata": {},
   "outputs": [
    {
     "name": "stdout",
     "output_type": "stream",
     "text": [
      "    wage_eur\n",
      "4     470000\n",
      "8     340000\n",
      "18    300000\n",
      "28    235000\n",
      "36    330000\n"
     ]
    }
   ],
   "source": [
    "#15.Show wages records of top 5 players of 'Real Madrid' team.\n",
    "print(fifa.loc[fifa['club'] == 'Real Madrid'].loc[:,['wage_eur']].head(5))"
   ]
  },
  {
   "cell_type": "code",
   "execution_count": 101,
   "id": "4522d312",
   "metadata": {},
   "outputs": [
    {
     "name": "stdout",
     "output_type": "stream",
     "text": [
      "    shooting\n",
      "4       83.0\n",
      "8       76.0\n",
      "18      68.0\n",
      "28       NaN\n",
      "36      80.0\n"
     ]
    }
   ],
   "source": [
    "#16.Show shooting records of top 5 players of 'Real Madrid' team.\n",
    "print(fifa.loc[fifa['club'] == 'Real Madrid'].loc[:,['shooting']].head(5))"
   ]
  },
  {
   "cell_type": "code",
   "execution_count": 102,
   "id": "99ceff81",
   "metadata": {},
   "outputs": [
    {
     "name": "stdout",
     "output_type": "stream",
     "text": [
      "    defending\n",
      "4        35.0\n",
      "8        72.0\n",
      "18       87.0\n",
      "28        NaN\n",
      "36       70.0\n"
     ]
    }
   ],
   "source": [
    "#17.Show defending records of top 5 players of 'Real Madrid' team.\n",
    "print(fifa.loc[fifa['club'] == 'Real Madrid'].loc[:,['defending']].head(5))"
   ]
  },
  {
   "cell_type": "code",
   "execution_count": 103,
   "id": "26b4ca2a",
   "metadata": {},
   "outputs": [
    {
     "name": "stdout",
     "output_type": "stream",
     "text": [
      "   nationality\n",
      "4      Belgium\n",
      "8      Croatia\n",
      "18       Spain\n",
      "28     Belgium\n",
      "36     Germany\n"
     ]
    }
   ],
   "source": [
    "#18.Show nationality records of top 5 players of 'Real Madrid' team.\n",
    "print(fifa.loc[fifa['club'] == 'Real Madrid'].loc[:,['nationality']].head(5))"
   ]
  },
  {
   "cell_type": "code",
   "execution_count": null,
   "id": "f6c5a2e6",
   "metadata": {},
   "outputs": [],
   "source": []
  }
 ],
 "metadata": {
  "kernelspec": {
   "display_name": "Python 3 (ipykernel)",
   "language": "python",
   "name": "python3"
  },
  "language_info": {
   "codemirror_mode": {
    "name": "ipython",
    "version": 3
   },
   "file_extension": ".py",
   "mimetype": "text/x-python",
   "name": "python",
   "nbconvert_exporter": "python",
   "pygments_lexer": "ipython3",
   "version": "3.9.12"
  }
 },
 "nbformat": 4,
 "nbformat_minor": 5
}
